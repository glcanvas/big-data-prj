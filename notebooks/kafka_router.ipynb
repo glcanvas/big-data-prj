{
 "cells": [
  {
   "cell_type": "code",
   "execution_count": null,
   "metadata": {},
   "outputs": [],
   "source": [
    "from pyspark.sql import SparkSession\n",
    "from pyspark.sql.functions import col\n",
    "\n",
    "spark = SparkSession.builder.master(\"local[*]\") \\\n",
    "    .appName(\"pyspark_test\") \\\n",
    "    .config(\"spark.jars.packages\", \"org.apache.spark:spark-sql-kafka-0-10_2.12:3.1.1\") \\\n",
    "    .getOrCreate()"
   ]
  },
  {
   "cell_type": "code",
   "execution_count": null,
   "metadata": {},
   "outputs": [],
   "source": [
    "from pyspark.sql.functions import from_json, get_json_object, explode\n",
    "from pyspark.sql.types import BooleanType, IntegerType, LongType, StringType, ArrayType, FloatType, StructType, StructField, BinaryType, TimestampType, DateType, ByteType\n",
    "\n",
    "schema_init = StructType() \\\n",
    "    .add(\"type\", StringType()) \\\n",
    "    .add(\"item\", StringType())\n",
    "\n",
    "schema_fin = StructType() \\\n",
    "         .add(\"postId\", IntegerType()) \\\n",
    "         .add(\"wallId\", IntegerType()) \\\n",
    "         .add(\"authorId\", IntegerType()) \\\n",
    "         .add(\"date\", DateType()) \\\n",
    "         .add(\"text\", StringType()) \\\n",
    "         .add(\"likes\", IntegerType()) \\\n",
    "         .add(\"reports\", IntegerType()) \\\n",
    "         .add(\"images\", ArrayType(StringType()))\n",
    "\n",
    "df = spark \\\n",
    "    .readStream \\\n",
    "    .format(\"kafka\") \\\n",
    "    .option(\"kafka.bootstrap.servers\", \"kafka:9092\") \\\n",
    "    .option(\"subscribe\", \"t1\") \\\n",
    "    .load() \\\n",
    "    .selectExpr(\"CAST(value AS STRING)\") \\\n",
    "    .select(col(\"value\").cast('string')) \\\n",
    "    .select(from_json('value', schema_init).alias('json')) \\\n",
    "    .select('json.item') \\\n",
    "    .select(from_json('item', schema_fin).alias('data'))\n",
    "\n",
    "df_images = df \\\n",
    "    .select(col('data.images').alias('value')) \\\n",
    "    .writeStream \\\n",
    "    .format(\"kafka\") \\\n",
    "    .outputMode(\"append\")\\\n",
    "    .option(\"kafka.bootstrap.servers\", \"kafka:9092\") \\\n",
    "    .option(\"topic\", \"images\") \\\n",
    "    .option(\"kafka.group.id\", \"test_group\") \\\n",
    "    .option(\"checkpointLocation\", \"/home/jovyan/checkpoint_images\") \\\n",
    "    .start()    \n",
    "\n",
    "df_text = df \\\n",
    "    .select(col('data.text').alias('value')) \\\n",
    "    .writeStream \\\n",
    "    .format(\"kafka\") \\\n",
    "    .outputMode(\"append\")\\\n",
    "    .option(\"kafka.bootstrap.servers\", \"kafka:9092\") \\\n",
    "    .option(\"topic\", \"text\") \\\n",
    "    .option(\"kafka.group.id\", \"test_group\") \\\n",
    "    .option(\"checkpointLocation\", \"/home/jovyan/checkpoint_text\") \\\n",
    "    .start() \\\n",
    "    .awaitTermination()"
   ]
  }
 ],
 "metadata": {
  "kernelspec": {
   "display_name": "Python 3",
   "language": "python",
   "name": "python3"
  },
  "language_info": {
   "codemirror_mode": {
    "name": "ipython",
    "version": 3
   },
   "file_extension": ".py",
   "mimetype": "text/x-python",
   "name": "python",
   "nbconvert_exporter": "python",
   "pygments_lexer": "ipython3",
   "version": "3.8.5"
  }
 },
 "nbformat": 4,
 "nbformat_minor": 4
}
