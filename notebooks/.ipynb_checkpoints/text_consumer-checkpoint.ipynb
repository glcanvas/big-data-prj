{
 "cells": [
  {
   "cell_type": "code",
   "execution_count": null,
   "metadata": {},
   "outputs": [],
   "source": [
    "!pip uninstall -y kafka kafka-python\n",
    "!pip install kafka-python"
   ]
  },
  {
   "cell_type": "code",
   "execution_count": null,
   "metadata": {},
   "outputs": [],
   "source": [
    "from kafka import KafkaConsumer\n",
    "from json import loads\n",
    "import time\n",
    "\n",
    "consumer = KafkaConsumer(\n",
    "    'text',\n",
    "     bootstrap_servers=['kafka:9092'],\n",
    "     auto_offset_reset='earliest',\n",
    "     enable_auto_commit=True,\n",
    "     auto_commit_interval_ms=1000)"
   ]
  },
  {
   "cell_type": "code",
   "execution_count": null,
   "metadata": {},
   "outputs": [],
   "source": [
    "from Analyzer import Analyzer\n",
    "\n",
    "vectorizer_path = '/home/jovyan/big-data-prj/ml_text_processing/weights/vectorizer.pkl'\n",
    "regressor_path = '/home/jovyan/big-data-prj/ml_text_processing/weights/regressor.pkl'\n",
    "\n",
    "analyzer = Analyzer(vectorizer_path, regressor_path)\n",
    "\n",
    "for message in consumer:\n",
    "    try:\n",
    "        text = message.value.decode(\"utf-8\")\n",
    "    except KeyError:\n",
    "        print(\"No text\")\n",
    "        continue\n",
    "    \n",
    "    toxicity = analyzer.predict_text_toxicity(text)\n",
    "    entry = {'text': text, 'toxicity': toxicity}\n",
    "    _id = collection.insert_one(entry).inserted_id\n",
    "    print(f\"{_id}: {text} - {toxicity}\")"
   ]
  }
 ],
 "metadata": {
  "kernelspec": {
   "display_name": "Python 3",
   "language": "python",
   "name": "python3"
  },
  "language_info": {
   "codemirror_mode": {
    "name": "ipython",
    "version": 3
   },
   "file_extension": ".py",
   "mimetype": "text/x-python",
   "name": "python",
   "nbconvert_exporter": "python",
   "pygments_lexer": "ipython3",
   "version": "3.8.5"
  }
 },
 "nbformat": 4,
 "nbformat_minor": 4
}
