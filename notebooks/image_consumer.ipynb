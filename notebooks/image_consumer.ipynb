{
 "cells": [
  {
   "cell_type": "code",
   "execution_count": null,
   "metadata": {},
   "outputs": [],
   "source": [
    "from pymongo import MongoClient\n",
    "\n",
    "client = MongoClient('mongodb://mongo:27017/')\n",
    "db = client.vk\n",
    "collection = db['toxic_images']"
   ]
  },
  {
   "cell_type": "code",
   "execution_count": null,
   "metadata": {},
   "outputs": [],
   "source": [
    "from kafka import KafkaConsumer\n",
    "from json import loads\n",
    "import time\n",
    "\n",
    "consumer = KafkaConsumer(\n",
    "     'images',\n",
    "     bootstrap_servers=['kafka:9092'],\n",
    "     auto_offset_reset='earliest',\n",
    "     enable_auto_commit=True,\n",
    "     auto_commit_interval_ms=1000)"
   ]
  },
  {
   "cell_type": "code",
   "execution_count": null,
   "metadata": {},
   "outputs": [],
   "source": [
    "from Analyzer import Analyzer\n",
    "import os\n",
    "\n",
    "vectorizer_path = '/home/jovyan/big-data-prj/ml_text_processing/weights/vectorizer.pkl'\n",
    "regressor_path = '/home/jovyan/big-data-prj/ml_text_processing/weights/regressor.pkl'\n",
    "\n",
    "analyzer = Analyzer(vectorizer_path, regressor_path)\n",
    "\n",
    "base_path = '/home/jovyan/images'\n",
    "\n",
    "for message in consumer:\n",
    "    try:\n",
    "        img_name = message.value.decode(\"utf-8\")\n",
    "    except Exception as e:\n",
    "        print(e)\n",
    "        continue\n",
    "    full_path = os.path.join(base_path, img_name)\n",
    "\n",
    "    \n",
    "    text, toxicity = analyzer.predict_image_toxicity(full_path, None)\n",
    "    \n",
    "    entry = {'text': text.strip(), 'img_name': img_name, 'toxicity': toxicity}\n",
    "    _id = collection.insert_one(entry).inserted_id\n",
    "    print(f\"{_id}: {img_name}, {text} - {toxicity}\")"
   ]
  }
 ],
 "metadata": {
  "kernelspec": {
   "display_name": "Python 3",
   "language": "python",
   "name": "python3"
  },
  "language_info": {
   "codemirror_mode": {
    "name": "ipython",
    "version": 3
   },
   "file_extension": ".py",
   "mimetype": "text/x-python",
   "name": "python",
   "nbconvert_exporter": "python",
   "pygments_lexer": "ipython3",
   "version": "3.8.5"
  }
 },
 "nbformat": 4,
 "nbformat_minor": 4
}
